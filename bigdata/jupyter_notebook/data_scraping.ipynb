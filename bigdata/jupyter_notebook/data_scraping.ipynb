{
 "cells": [
  {
   "cell_type": "code",
   "execution_count": 12,
   "id": "54962ddd",
   "metadata": {},
   "outputs": [],
   "source": [
    "import requests\n",
    "from tqdm import tqdm\n",
    "import pandas as pd\n",
    "import json"
   ]
  },
  {
   "cell_type": "markdown",
   "id": "9f38e817",
   "metadata": {},
   "source": [
    "## solved ac 크롤링\n",
    "### id 목록을 이용해 문제 목록 크롤링\n",
    "- 문제번호는 대강 1000번에서 26000번까지\n",
    "- 한번에 100개씩 가능\n",
    "### 흐름\n",
    "- 1000부터 26000까지 100씩 나눠 쿼리에 넘겨줄 id_list string 생성\n",
    "- 문제리스트 크롤링\n",
    "- json 형태로 변환 및 병합\n",
    "- 저장"
   ]
  },
  {
   "cell_type": "code",
   "execution_count": 247,
   "id": "54f83b98",
   "metadata": {
    "scrolled": true
   },
   "outputs": [],
   "source": [
    "# 크롤링할 id리스트 생성\n",
    "id_list = []\n",
    "for i in range(1000, 26000, 100):\n",
    "    tmp_id = \"\"\n",
    "    for j in range(i, i+100):\n",
    "        tmp_id += ' ' + str(j)\n",
    "    tmp_id = ','.join(tmp_id.split())\n",
    "    id_list.append(tmp_id)"
   ]
  },
  {
   "cell_type": "code",
   "execution_count": 279,
   "id": "00989863",
   "metadata": {},
   "outputs": [],
   "source": [
    "# 문제 리스트 크롤링\n",
    "problem_list = []\n",
    "url = \"https://solved.ac/api/v3/problem/lookup\"\n",
    "headers = {\"Content-Type\": \"application/json\"}\n",
    "\n",
    "for ids in id_list:\n",
    "    querystring = {\"problemIds\": ids}\n",
    "    response = requests.request(\"GET\", url, headers=headers, params=querystring)\n",
    "    problem_list.append(response.text)"
   ]
  },
  {
   "cell_type": "code",
   "execution_count": 287,
   "id": "083fb947",
   "metadata": {},
   "outputs": [
    {
     "name": "stderr",
     "output_type": "stream",
     "text": [
      "100%|███████████████████████████████████████████████████████████████████████████████| 250/250 [00:00<00:00, 355.38it/s]\n"
     ]
    }
   ],
   "source": [
    "# 문제 json 형태로 변환 및 병합\n",
    "problem_json = []\n",
    "\n",
    "for problem in tqdm(problem_list):\n",
    "    tmp_json = json.loads(problem)\n",
    "    problem_json += tmp_json"
   ]
  },
  {
   "cell_type": "code",
   "execution_count": 292,
   "id": "3800818f",
   "metadata": {},
   "outputs": [],
   "source": [
    "# json 저장\n",
    "with open(\"boj_problems.json\", \"w\") as f:\n",
    "    json.dump(problem_json, f)"
   ]
  },
  {
   "cell_type": "code",
   "execution_count": 293,
   "id": "46dde733",
   "metadata": {},
   "outputs": [],
   "source": [
    "with open('boj_problems.json', 'r', encoding='utf-8') as f:\n",
    "    json_data = json.load(f)"
   ]
  },
  {
   "cell_type": "markdown",
   "id": "d7147103",
   "metadata": {},
   "source": [
    "## df 변환\n",
    "- json data를 df 형태로 변환"
   ]
  },
  {
   "cell_type": "code",
   "execution_count": 295,
   "id": "710923cb",
   "metadata": {},
   "outputs": [],
   "source": [
    "df = pd.json_normalize(json_data)"
   ]
  },
  {
   "cell_type": "code",
   "execution_count": 296,
   "id": "f1e2632b",
   "metadata": {},
   "outputs": [
    {
     "data": {
      "text/plain": [
       "Index(['problemId', 'titleKo', 'titles', 'isSolvable', 'isPartial',\n",
       "       'acceptedUserCount', 'level', 'votedUserCount', 'sprout',\n",
       "       'givesNoRating', 'isLevelLocked', 'averageTries', 'official', 'tags'],\n",
       "      dtype='object')"
      ]
     },
     "execution_count": 296,
     "metadata": {},
     "output_type": "execute_result"
    }
   ],
   "source": [
    "df.columns"
   ]
  },
  {
   "cell_type": "code",
   "execution_count": 316,
   "id": "747e7e4e",
   "metadata": {
    "scrolled": true
   },
   "outputs": [
    {
     "data": {
      "text/html": [
       "<div>\n",
       "<style scoped>\n",
       "    .dataframe tbody tr th:only-of-type {\n",
       "        vertical-align: middle;\n",
       "    }\n",
       "\n",
       "    .dataframe tbody tr th {\n",
       "        vertical-align: top;\n",
       "    }\n",
       "\n",
       "    .dataframe thead th {\n",
       "        text-align: right;\n",
       "    }\n",
       "</style>\n",
       "<table border=\"1\" class=\"dataframe\">\n",
       "  <thead>\n",
       "    <tr style=\"text-align: right;\">\n",
       "      <th></th>\n",
       "      <th>problemId</th>\n",
       "      <th>titleKo</th>\n",
       "      <th>titles</th>\n",
       "      <th>isSolvable</th>\n",
       "      <th>isPartial</th>\n",
       "      <th>acceptedUserCount</th>\n",
       "      <th>level</th>\n",
       "      <th>votedUserCount</th>\n",
       "      <th>sprout</th>\n",
       "      <th>givesNoRating</th>\n",
       "      <th>isLevelLocked</th>\n",
       "      <th>averageTries</th>\n",
       "      <th>official</th>\n",
       "      <th>tags</th>\n",
       "    </tr>\n",
       "  </thead>\n",
       "  <tbody>\n",
       "    <tr>\n",
       "      <th>0</th>\n",
       "      <td>1000</td>\n",
       "      <td>A+B</td>\n",
       "      <td>[{'language': 'ko', 'languageDisplayName': 'ko...</td>\n",
       "      <td>True</td>\n",
       "      <td>False</td>\n",
       "      <td>174601</td>\n",
       "      <td>1</td>\n",
       "      <td>17</td>\n",
       "      <td>False</td>\n",
       "      <td>False</td>\n",
       "      <td>True</td>\n",
       "      <td>2.3654</td>\n",
       "      <td>True</td>\n",
       "      <td>[{'key': 'arithmetic', 'isMeta': False, 'bojTa...</td>\n",
       "    </tr>\n",
       "    <tr>\n",
       "      <th>1</th>\n",
       "      <td>1001</td>\n",
       "      <td>A-B</td>\n",
       "      <td>[{'language': 'ko', 'languageDisplayName': 'ko...</td>\n",
       "      <td>True</td>\n",
       "      <td>False</td>\n",
       "      <td>146249</td>\n",
       "      <td>1</td>\n",
       "      <td>8</td>\n",
       "      <td>False</td>\n",
       "      <td>False</td>\n",
       "      <td>True</td>\n",
       "      <td>1.3962</td>\n",
       "      <td>True</td>\n",
       "      <td>[{'key': 'arithmetic', 'isMeta': False, 'bojTa...</td>\n",
       "    </tr>\n",
       "    <tr>\n",
       "      <th>2</th>\n",
       "      <td>1002</td>\n",
       "      <td>터렛</td>\n",
       "      <td>[{'language': 'ko', 'languageDisplayName': 'ko...</td>\n",
       "      <td>True</td>\n",
       "      <td>False</td>\n",
       "      <td>25647</td>\n",
       "      <td>7</td>\n",
       "      <td>112</td>\n",
       "      <td>False</td>\n",
       "      <td>False</td>\n",
       "      <td>False</td>\n",
       "      <td>4.6000</td>\n",
       "      <td>True</td>\n",
       "      <td>[{'key': 'geometry', 'isMeta': False, 'bojTagI...</td>\n",
       "    </tr>\n",
       "    <tr>\n",
       "      <th>3</th>\n",
       "      <td>1003</td>\n",
       "      <td>피보나치 함수</td>\n",
       "      <td>[{'language': 'ko', 'languageDisplayName': 'ko...</td>\n",
       "      <td>True</td>\n",
       "      <td>False</td>\n",
       "      <td>34563</td>\n",
       "      <td>8</td>\n",
       "      <td>103</td>\n",
       "      <td>False</td>\n",
       "      <td>False</td>\n",
       "      <td>False</td>\n",
       "      <td>3.1952</td>\n",
       "      <td>True</td>\n",
       "      <td>[{'key': 'dp', 'isMeta': False, 'bojTagId': 25...</td>\n",
       "    </tr>\n",
       "    <tr>\n",
       "      <th>4</th>\n",
       "      <td>1004</td>\n",
       "      <td>어린 왕자</td>\n",
       "      <td>[{'language': 'ko', 'languageDisplayName': 'ko...</td>\n",
       "      <td>True</td>\n",
       "      <td>False</td>\n",
       "      <td>8419</td>\n",
       "      <td>8</td>\n",
       "      <td>57</td>\n",
       "      <td>False</td>\n",
       "      <td>False</td>\n",
       "      <td>False</td>\n",
       "      <td>2.3461</td>\n",
       "      <td>True</td>\n",
       "      <td>[{'key': 'geometry', 'isMeta': False, 'bojTagI...</td>\n",
       "    </tr>\n",
       "  </tbody>\n",
       "</table>\n",
       "</div>"
      ],
      "text/plain": [
       "   problemId  titleKo                                             titles  \\\n",
       "0       1000      A+B  [{'language': 'ko', 'languageDisplayName': 'ko...   \n",
       "1       1001      A-B  [{'language': 'ko', 'languageDisplayName': 'ko...   \n",
       "2       1002       터렛  [{'language': 'ko', 'languageDisplayName': 'ko...   \n",
       "3       1003  피보나치 함수  [{'language': 'ko', 'languageDisplayName': 'ko...   \n",
       "4       1004    어린 왕자  [{'language': 'ko', 'languageDisplayName': 'ko...   \n",
       "\n",
       "   isSolvable  isPartial  acceptedUserCount  level  votedUserCount  sprout  \\\n",
       "0        True      False             174601      1              17   False   \n",
       "1        True      False             146249      1               8   False   \n",
       "2        True      False              25647      7             112   False   \n",
       "3        True      False              34563      8             103   False   \n",
       "4        True      False               8419      8              57   False   \n",
       "\n",
       "   givesNoRating  isLevelLocked  averageTries  official  \\\n",
       "0          False           True        2.3654      True   \n",
       "1          False           True        1.3962      True   \n",
       "2          False          False        4.6000      True   \n",
       "3          False          False        3.1952      True   \n",
       "4          False          False        2.3461      True   \n",
       "\n",
       "                                                tags  \n",
       "0  [{'key': 'arithmetic', 'isMeta': False, 'bojTa...  \n",
       "1  [{'key': 'arithmetic', 'isMeta': False, 'bojTa...  \n",
       "2  [{'key': 'geometry', 'isMeta': False, 'bojTagI...  \n",
       "3  [{'key': 'dp', 'isMeta': False, 'bojTagId': 25...  \n",
       "4  [{'key': 'geometry', 'isMeta': False, 'bojTagI...  "
      ]
     },
     "execution_count": 316,
     "metadata": {},
     "output_type": "execute_result"
    }
   ],
   "source": [
    "df.head()"
   ]
  },
  {
   "cell_type": "code",
   "execution_count": 344,
   "id": "3a97ee0d",
   "metadata": {},
   "outputs": [],
   "source": [
    "df.to_csv('boj_problems.csv', encoding='utf-8-sig')"
   ]
  },
  {
   "cell_type": "code",
   "execution_count": 346,
   "id": "17f6d1b9",
   "metadata": {
    "scrolled": true
   },
   "outputs": [],
   "source": [
    "# pd.read_csv('boj_problems.csv', index_col=0)"
   ]
  },
  {
   "cell_type": "code",
   "execution_count": 300,
   "id": "09434b29",
   "metadata": {
    "scrolled": false
   },
   "outputs": [
    {
     "data": {
      "text/plain": [
       "[{'key': 'arithmetic',\n",
       "  'isMeta': False,\n",
       "  'bojTagId': 121,\n",
       "  'problemCount': 585,\n",
       "  'displayNames': [{'language': 'en',\n",
       "    'name': 'arithmetic',\n",
       "    'short': 'arithmetic'},\n",
       "   {'language': 'ko', 'name': '사칙연산', 'short': '사칙연산'}]},\n",
       " {'key': 'implementation',\n",
       "  'isMeta': False,\n",
       "  'bojTagId': 102,\n",
       "  'problemCount': 3456,\n",
       "  'displayNames': [{'language': 'en',\n",
       "    'name': 'implementation',\n",
       "    'short': 'impl'},\n",
       "   {'language': 'ko', 'name': '구현', 'short': '구현'}]},\n",
       " {'key': 'math',\n",
       "  'isMeta': False,\n",
       "  'bojTagId': 124,\n",
       "  'problemCount': 3849,\n",
       "  'displayNames': [{'language': 'en', 'name': 'mathematics', 'short': 'math'},\n",
       "   {'language': 'ko', 'name': '수학', 'short': '수학'}]}]"
      ]
     },
     "execution_count": 300,
     "metadata": {},
     "output_type": "execute_result"
    }
   ],
   "source": [
    "df['tags'][0]"
   ]
  },
  {
   "cell_type": "markdown",
   "id": "9fc7ad8a",
   "metadata": {},
   "source": [
    "- tag depth가 너무 깊기 때문에 데이터를 분리하기로\n",
    "- df행 돌면서 tag 데이터만 추출 후 병합\n",
    "- 따로 df형태로 변환"
   ]
  },
  {
   "cell_type": "code",
   "execution_count": 324,
   "id": "36c458b3",
   "metadata": {},
   "outputs": [
    {
     "name": "stderr",
     "output_type": "stream",
     "text": [
      "22979it [00:06, 3528.12it/s]\n"
     ]
    }
   ],
   "source": [
    "tag_list = []\n",
    "\n",
    "for index, row in tqdm(df.iterrows()):\n",
    "    for t in row['tags']:\n",
    "        t['problemId'] = row['problemId']\n",
    "        tag_list.append(t)"
   ]
  },
  {
   "cell_type": "code",
   "execution_count": 325,
   "id": "5f89dfb9",
   "metadata": {},
   "outputs": [
    {
     "data": {
      "text/plain": [
       "{'key': 'arithmetic',\n",
       " 'isMeta': False,\n",
       " 'bojTagId': 121,\n",
       " 'problemCount': 585,\n",
       " 'displayNames': [{'language': 'en',\n",
       "   'name': 'arithmetic',\n",
       "   'short': 'arithmetic'},\n",
       "  {'language': 'ko', 'name': '사칙연산', 'short': '사칙연산'}],\n",
       " 'problemId': 1000}"
      ]
     },
     "execution_count": 325,
     "metadata": {},
     "output_type": "execute_result"
    }
   ],
   "source": [
    "tag_list[0]"
   ]
  },
  {
   "cell_type": "code",
   "execution_count": 327,
   "id": "9a3e5bc3",
   "metadata": {},
   "outputs": [],
   "source": [
    "for tag in tag_list:\n",
    "    for t in tag['displayNames']:\n",
    "        if t['language'] == 'ko':\n",
    "            tag['tag_name'] = t['name']\n",
    "            tag['tag_short'] = t['short']\n",
    "    else:\n",
    "        tag['tag_name'] = t['name']\n",
    "        tag['tag_short'] = t['short']"
   ]
  },
  {
   "cell_type": "code",
   "execution_count": 332,
   "id": "766589b4",
   "metadata": {},
   "outputs": [],
   "source": [
    "df_tags = pd.json_normalize(tag_list)"
   ]
  },
  {
   "cell_type": "code",
   "execution_count": 336,
   "id": "7f0a4644",
   "metadata": {},
   "outputs": [],
   "source": [
    "df_tags.drop('displayNames', inplace=True, axis=1)"
   ]
  },
  {
   "cell_type": "code",
   "execution_count": 364,
   "id": "804c98b9",
   "metadata": {},
   "outputs": [
    {
     "data": {
      "text/html": [
       "<div>\n",
       "<style scoped>\n",
       "    .dataframe tbody tr th:only-of-type {\n",
       "        vertical-align: middle;\n",
       "    }\n",
       "\n",
       "    .dataframe tbody tr th {\n",
       "        vertical-align: top;\n",
       "    }\n",
       "\n",
       "    .dataframe thead th {\n",
       "        text-align: right;\n",
       "    }\n",
       "</style>\n",
       "<table border=\"1\" class=\"dataframe\">\n",
       "  <thead>\n",
       "    <tr style=\"text-align: right;\">\n",
       "      <th></th>\n",
       "      <th>key</th>\n",
       "      <th>isMeta</th>\n",
       "      <th>bojTagId</th>\n",
       "      <th>problemCount</th>\n",
       "      <th>problemId</th>\n",
       "      <th>tag_name</th>\n",
       "      <th>tag_short</th>\n",
       "    </tr>\n",
       "  </thead>\n",
       "  <tbody>\n",
       "    <tr>\n",
       "      <th>0</th>\n",
       "      <td>arithmetic</td>\n",
       "      <td>False</td>\n",
       "      <td>121</td>\n",
       "      <td>585</td>\n",
       "      <td>1000</td>\n",
       "      <td>사칙연산</td>\n",
       "      <td>사칙연산</td>\n",
       "    </tr>\n",
       "    <tr>\n",
       "      <th>1</th>\n",
       "      <td>implementation</td>\n",
       "      <td>False</td>\n",
       "      <td>102</td>\n",
       "      <td>3456</td>\n",
       "      <td>1000</td>\n",
       "      <td>구현</td>\n",
       "      <td>구현</td>\n",
       "    </tr>\n",
       "    <tr>\n",
       "      <th>2</th>\n",
       "      <td>math</td>\n",
       "      <td>False</td>\n",
       "      <td>124</td>\n",
       "      <td>3849</td>\n",
       "      <td>1000</td>\n",
       "      <td>수학</td>\n",
       "      <td>수학</td>\n",
       "    </tr>\n",
       "    <tr>\n",
       "      <th>3</th>\n",
       "      <td>arithmetic</td>\n",
       "      <td>False</td>\n",
       "      <td>121</td>\n",
       "      <td>585</td>\n",
       "      <td>1001</td>\n",
       "      <td>사칙연산</td>\n",
       "      <td>사칙연산</td>\n",
       "    </tr>\n",
       "    <tr>\n",
       "      <th>4</th>\n",
       "      <td>implementation</td>\n",
       "      <td>False</td>\n",
       "      <td>102</td>\n",
       "      <td>3456</td>\n",
       "      <td>1001</td>\n",
       "      <td>구현</td>\n",
       "      <td>구현</td>\n",
       "    </tr>\n",
       "  </tbody>\n",
       "</table>\n",
       "</div>"
      ],
      "text/plain": [
       "              key  isMeta  bojTagId  problemCount  problemId tag_name  \\\n",
       "0      arithmetic   False       121           585       1000     사칙연산   \n",
       "1  implementation   False       102          3456       1000       구현   \n",
       "2            math   False       124          3849       1000       수학   \n",
       "3      arithmetic   False       121           585       1001     사칙연산   \n",
       "4  implementation   False       102          3456       1001       구현   \n",
       "\n",
       "  tag_short  \n",
       "0      사칙연산  \n",
       "1        구현  \n",
       "2        수학  \n",
       "3      사칙연산  \n",
       "4        구현  "
      ]
     },
     "execution_count": 364,
     "metadata": {},
     "output_type": "execute_result"
    }
   ],
   "source": [
    "df_tags.head()"
   ]
  },
  {
   "cell_type": "code",
   "execution_count": 347,
   "id": "2f2dd2c9",
   "metadata": {},
   "outputs": [],
   "source": [
    "df_tags.to_csv('boj_tags.csv', encoding='utf-8-sig')"
   ]
  },
  {
   "cell_type": "code",
   "execution_count": 361,
   "id": "38012859",
   "metadata": {},
   "outputs": [],
   "source": [
    "df_tags = pd.read_csv('boj_tags.csv', index_col=0)"
   ]
  },
  {
   "cell_type": "code",
   "execution_count": 372,
   "id": "3f3d3c18",
   "metadata": {},
   "outputs": [],
   "source": [
    "boj_taglist = df_tags.copy()\n",
    "boj_taglist.drop('problemId', inplace=True, axis=1)"
   ]
  },
  {
   "cell_type": "code",
   "execution_count": 375,
   "id": "2b156b77",
   "metadata": {},
   "outputs": [],
   "source": [
    "boj_taglist = boj_taglist.drop_duplicates().reset_index(drop=True)"
   ]
  },
  {
   "cell_type": "code",
   "execution_count": 377,
   "id": "aee99f01",
   "metadata": {},
   "outputs": [
    {
     "data": {
      "text/html": [
       "<div>\n",
       "<style scoped>\n",
       "    .dataframe tbody tr th:only-of-type {\n",
       "        vertical-align: middle;\n",
       "    }\n",
       "\n",
       "    .dataframe tbody tr th {\n",
       "        vertical-align: top;\n",
       "    }\n",
       "\n",
       "    .dataframe thead th {\n",
       "        text-align: right;\n",
       "    }\n",
       "</style>\n",
       "<table border=\"1\" class=\"dataframe\">\n",
       "  <thead>\n",
       "    <tr style=\"text-align: right;\">\n",
       "      <th></th>\n",
       "      <th>key</th>\n",
       "      <th>isMeta</th>\n",
       "      <th>bojTagId</th>\n",
       "      <th>problemCount</th>\n",
       "      <th>tag_name</th>\n",
       "      <th>tag_short</th>\n",
       "    </tr>\n",
       "  </thead>\n",
       "  <tbody>\n",
       "    <tr>\n",
       "      <th>0</th>\n",
       "      <td>arithmetic</td>\n",
       "      <td>False</td>\n",
       "      <td>121</td>\n",
       "      <td>585</td>\n",
       "      <td>사칙연산</td>\n",
       "      <td>사칙연산</td>\n",
       "    </tr>\n",
       "    <tr>\n",
       "      <th>1</th>\n",
       "      <td>implementation</td>\n",
       "      <td>False</td>\n",
       "      <td>102</td>\n",
       "      <td>3456</td>\n",
       "      <td>구현</td>\n",
       "      <td>구현</td>\n",
       "    </tr>\n",
       "    <tr>\n",
       "      <th>2</th>\n",
       "      <td>math</td>\n",
       "      <td>False</td>\n",
       "      <td>124</td>\n",
       "      <td>3849</td>\n",
       "      <td>수학</td>\n",
       "      <td>수학</td>\n",
       "    </tr>\n",
       "    <tr>\n",
       "      <th>3</th>\n",
       "      <td>geometry</td>\n",
       "      <td>False</td>\n",
       "      <td>100</td>\n",
       "      <td>843</td>\n",
       "      <td>기하학</td>\n",
       "      <td>기하학</td>\n",
       "    </tr>\n",
       "    <tr>\n",
       "      <th>4</th>\n",
       "      <td>dp</td>\n",
       "      <td>False</td>\n",
       "      <td>25</td>\n",
       "      <td>2415</td>\n",
       "      <td>다이나믹 프로그래밍</td>\n",
       "      <td>다이나믹 프로그래밍</td>\n",
       "    </tr>\n",
       "    <tr>\n",
       "      <th>...</th>\n",
       "      <td>...</td>\n",
       "      <td>...</td>\n",
       "      <td>...</td>\n",
       "      <td>...</td>\n",
       "      <td>...</td>\n",
       "      <td>...</td>\n",
       "    </tr>\n",
       "    <tr>\n",
       "      <th>180</th>\n",
       "      <td>utf8</td>\n",
       "      <td>False</td>\n",
       "      <td>199</td>\n",
       "      <td>2</td>\n",
       "      <td>utf-8 입력 처리</td>\n",
       "      <td>utf-8</td>\n",
       "    </tr>\n",
       "    <tr>\n",
       "      <th>181</th>\n",
       "      <td>rb_tree</td>\n",
       "      <td>False</td>\n",
       "      <td>94</td>\n",
       "      <td>1</td>\n",
       "      <td>레드-블랙 트리</td>\n",
       "      <td>레드-블랙 트리</td>\n",
       "    </tr>\n",
       "    <tr>\n",
       "      <th>182</th>\n",
       "      <td>discrete_sqrt</td>\n",
       "      <td>False</td>\n",
       "      <td>147</td>\n",
       "      <td>4</td>\n",
       "      <td>이산 제곱근</td>\n",
       "      <td>이산 제곱근</td>\n",
       "    </tr>\n",
       "    <tr>\n",
       "      <th>183</th>\n",
       "      <td>top_tree</td>\n",
       "      <td>False</td>\n",
       "      <td>105</td>\n",
       "      <td>2</td>\n",
       "      <td>탑 트리</td>\n",
       "      <td>탑 트리</td>\n",
       "    </tr>\n",
       "    <tr>\n",
       "      <th>184</th>\n",
       "      <td>generating_function</td>\n",
       "      <td>False</td>\n",
       "      <td>198</td>\n",
       "      <td>2</td>\n",
       "      <td>생성 함수</td>\n",
       "      <td>생성 함수</td>\n",
       "    </tr>\n",
       "  </tbody>\n",
       "</table>\n",
       "<p>185 rows × 6 columns</p>\n",
       "</div>"
      ],
      "text/plain": [
       "                     key  isMeta  bojTagId  problemCount     tag_name  \\\n",
       "0             arithmetic   False       121           585         사칙연산   \n",
       "1         implementation   False       102          3456           구현   \n",
       "2                   math   False       124          3849           수학   \n",
       "3               geometry   False       100           843          기하학   \n",
       "4                     dp   False        25          2415   다이나믹 프로그래밍   \n",
       "..                   ...     ...       ...           ...          ...   \n",
       "180                 utf8   False       199             2  utf-8 입력 처리   \n",
       "181              rb_tree   False        94             1     레드-블랙 트리   \n",
       "182        discrete_sqrt   False       147             4       이산 제곱근   \n",
       "183             top_tree   False       105             2         탑 트리   \n",
       "184  generating_function   False       198             2        생성 함수   \n",
       "\n",
       "      tag_short  \n",
       "0          사칙연산  \n",
       "1            구현  \n",
       "2            수학  \n",
       "3           기하학  \n",
       "4    다이나믹 프로그래밍  \n",
       "..          ...  \n",
       "180       utf-8  \n",
       "181    레드-블랙 트리  \n",
       "182      이산 제곱근  \n",
       "183        탑 트리  \n",
       "184       생성 함수  \n",
       "\n",
       "[185 rows x 6 columns]"
      ]
     },
     "execution_count": 377,
     "metadata": {},
     "output_type": "execute_result"
    }
   ],
   "source": [
    "boj_taglist"
   ]
  },
  {
   "cell_type": "code",
   "execution_count": 379,
   "id": "d780945d",
   "metadata": {},
   "outputs": [],
   "source": [
    "boj_taglist.to_csv('boj_taglist.csv', encoding='utf-8-sig')"
   ]
  },
  {
   "cell_type": "code",
   "execution_count": 371,
   "id": "3b87fcec",
   "metadata": {},
   "outputs": [
    {
     "data": {
      "text/html": [
       "<div>\n",
       "<style scoped>\n",
       "    .dataframe tbody tr th:only-of-type {\n",
       "        vertical-align: middle;\n",
       "    }\n",
       "\n",
       "    .dataframe tbody tr th {\n",
       "        vertical-align: top;\n",
       "    }\n",
       "\n",
       "    .dataframe thead th {\n",
       "        text-align: right;\n",
       "    }\n",
       "</style>\n",
       "<table border=\"1\" class=\"dataframe\">\n",
       "  <thead>\n",
       "    <tr style=\"text-align: right;\">\n",
       "      <th></th>\n",
       "      <th>key</th>\n",
       "      <th>isMeta</th>\n",
       "      <th>problemCount</th>\n",
       "      <th>tag_name</th>\n",
       "      <th>tag_short</th>\n",
       "    </tr>\n",
       "    <tr>\n",
       "      <th>bojTagId</th>\n",
       "      <th></th>\n",
       "      <th></th>\n",
       "      <th></th>\n",
       "      <th></th>\n",
       "      <th></th>\n",
       "    </tr>\n",
       "  </thead>\n",
       "  <tbody>\n",
       "    <tr>\n",
       "      <th>121</th>\n",
       "      <td>arithmetic</td>\n",
       "      <td>False</td>\n",
       "      <td>585</td>\n",
       "      <td>사칙연산</td>\n",
       "      <td>사칙연산</td>\n",
       "    </tr>\n",
       "    <tr>\n",
       "      <th>102</th>\n",
       "      <td>implementation</td>\n",
       "      <td>False</td>\n",
       "      <td>3456</td>\n",
       "      <td>구현</td>\n",
       "      <td>구현</td>\n",
       "    </tr>\n",
       "    <tr>\n",
       "      <th>124</th>\n",
       "      <td>math</td>\n",
       "      <td>False</td>\n",
       "      <td>3849</td>\n",
       "      <td>수학</td>\n",
       "      <td>수학</td>\n",
       "    </tr>\n",
       "    <tr>\n",
       "      <th>100</th>\n",
       "      <td>geometry</td>\n",
       "      <td>False</td>\n",
       "      <td>843</td>\n",
       "      <td>기하학</td>\n",
       "      <td>기하학</td>\n",
       "    </tr>\n",
       "    <tr>\n",
       "      <th>25</th>\n",
       "      <td>dp</td>\n",
       "      <td>False</td>\n",
       "      <td>2415</td>\n",
       "      <td>다이나믹 프로그래밍</td>\n",
       "      <td>다이나믹 프로그래밍</td>\n",
       "    </tr>\n",
       "    <tr>\n",
       "      <th>...</th>\n",
       "      <td>...</td>\n",
       "      <td>...</td>\n",
       "      <td>...</td>\n",
       "      <td>...</td>\n",
       "      <td>...</td>\n",
       "    </tr>\n",
       "    <tr>\n",
       "      <th>199</th>\n",
       "      <td>utf8</td>\n",
       "      <td>False</td>\n",
       "      <td>2</td>\n",
       "      <td>utf-8 입력 처리</td>\n",
       "      <td>utf-8</td>\n",
       "    </tr>\n",
       "    <tr>\n",
       "      <th>94</th>\n",
       "      <td>rb_tree</td>\n",
       "      <td>False</td>\n",
       "      <td>1</td>\n",
       "      <td>레드-블랙 트리</td>\n",
       "      <td>레드-블랙 트리</td>\n",
       "    </tr>\n",
       "    <tr>\n",
       "      <th>147</th>\n",
       "      <td>discrete_sqrt</td>\n",
       "      <td>False</td>\n",
       "      <td>4</td>\n",
       "      <td>이산 제곱근</td>\n",
       "      <td>이산 제곱근</td>\n",
       "    </tr>\n",
       "    <tr>\n",
       "      <th>105</th>\n",
       "      <td>top_tree</td>\n",
       "      <td>False</td>\n",
       "      <td>2</td>\n",
       "      <td>탑 트리</td>\n",
       "      <td>탑 트리</td>\n",
       "    </tr>\n",
       "    <tr>\n",
       "      <th>198</th>\n",
       "      <td>generating_function</td>\n",
       "      <td>False</td>\n",
       "      <td>2</td>\n",
       "      <td>생성 함수</td>\n",
       "      <td>생성 함수</td>\n",
       "    </tr>\n",
       "  </tbody>\n",
       "</table>\n",
       "<p>185 rows × 5 columns</p>\n",
       "</div>"
      ],
      "text/plain": [
       "                          key  isMeta  problemCount     tag_name   tag_short\n",
       "bojTagId                                                                    \n",
       "121                arithmetic   False           585         사칙연산        사칙연산\n",
       "102            implementation   False          3456           구현          구현\n",
       "124                      math   False          3849           수학          수학\n",
       "100                  geometry   False           843          기하학         기하학\n",
       "25                         dp   False          2415   다이나믹 프로그래밍  다이나믹 프로그래밍\n",
       "...                       ...     ...           ...          ...         ...\n",
       "199                      utf8   False             2  utf-8 입력 처리       utf-8\n",
       "94                    rb_tree   False             1     레드-블랙 트리    레드-블랙 트리\n",
       "147             discrete_sqrt   False             4       이산 제곱근      이산 제곱근\n",
       "105                  top_tree   False             2         탑 트리        탑 트리\n",
       "198       generating_function   False             2        생성 함수       생성 함수\n",
       "\n",
       "[185 rows x 5 columns]"
      ]
     },
     "execution_count": 371,
     "metadata": {},
     "output_type": "execute_result"
    }
   ],
   "source": [
    "boj_taglist.drop_duplicates().set_index('bojTagId', drop=True)"
   ]
  },
  {
   "cell_type": "code",
   "execution_count": null,
   "id": "1ce03a9e",
   "metadata": {},
   "outputs": [],
   "source": []
  }
 ],
 "metadata": {
  "kernelspec": {
   "display_name": "Python 3",
   "language": "python",
   "name": "python3"
  },
  "language_info": {
   "codemirror_mode": {
    "name": "ipython",
    "version": 3
   },
   "file_extension": ".py",
   "mimetype": "text/x-python",
   "name": "python",
   "nbconvert_exporter": "python",
   "pygments_lexer": "ipython3",
   "version": "3.8.8"
  }
 },
 "nbformat": 4,
 "nbformat_minor": 5
}
